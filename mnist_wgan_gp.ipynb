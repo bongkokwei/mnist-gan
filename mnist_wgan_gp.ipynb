{
 "cells": [
  {
   "cell_type": "markdown",
   "metadata": {},
   "source": [
    "## 1. Generating MNIST data with Generative adversarial network (GAN)"
   ]
  },
  {
   "cell_type": "code",
   "execution_count": 9,
   "metadata": {},
   "outputs": [
    {
     "name": "stdout",
     "output_type": "stream",
     "text": [
      "Current working directory: c:\\Users\\Kok-WeiBong\\Documents\\MEGA\\projects\\pytorch-projects\n"
     ]
    }
   ],
   "source": [
    "import sys\n",
    "import torch\n",
    "import os\n",
    "\n",
    "current_directory = os.getcwd()\n",
    "print(\"Current working directory:\", current_directory)\n",
    "\n",
    "sys.path.append(\"./gan\")\n",
    "from WGAN_GP import WGANGP"
   ]
  },
  {
   "cell_type": "markdown",
   "metadata": {},
   "source": [
    "## 2. Defining the hyperparameters and loading the data"
   ]
  },
  {
   "cell_type": "code",
   "execution_count": 10,
   "metadata": {},
   "outputs": [],
   "source": [
    "# Configuration\n",
    "# input_dim = 100\n",
    "# output_dim = 784  # Assuming MNIST\n",
    "# hidden_dim = 256\n",
    "# batch_size = 64\n",
    "# lr = 0.0002\n",
    "# num_epochs = 50\n",
    "# lambda_gp = 10\n",
    "# save_interval = 10\n",
    "# model_path = \"./gan/model_weights/\"\n",
    "\n",
    "gan = WGANGP(\n",
    "    input_dim=100,\n",
    "    output_dim=784,\n",
    "    hidden_dim=128,\n",
    "    lr=0.0005,\n",
    "    batch_size=64,\n",
    "    num_epochs=500,\n",
    "    lambda_gp=10,\n",
    "    save_interval=10,\n",
    "    save_path=\"./gan/models/\",\n",
    ")"
   ]
  },
  {
   "cell_type": "markdown",
   "metadata": {},
   "source": [
    "## 3. Load or train the model"
   ]
  },
  {
   "cell_type": "code",
   "execution_count": 11,
   "metadata": {},
   "outputs": [
    {
     "name": "stdout",
     "output_type": "stream",
     "text": [
      "Model loaded successfully.\n"
     ]
    }
   ],
   "source": [
    "# User options\n",
    "option = \"load\"\n",
    "gen_path = \"./gan/models/generator_final.pth\"\n",
    "\n",
    "if option == \"train\":\n",
    "    # Initialize models\n",
    "    gan.train()\n",
    "elif option == \"load\":\n",
    "    gan.load_models(gen_path)\n",
    "    print(\"Model loaded successfully.\")\n",
    "else:\n",
    "    print(\"Invalid option\")"
   ]
  },
  {
   "cell_type": "markdown",
   "metadata": {},
   "source": [
    "## 4. Generating MNIST"
   ]
  },
  {
   "cell_type": "code",
   "execution_count": 24,
   "metadata": {},
   "outputs": [
    {
     "data": {
      "image/png": "[encoded data removed]",
      "text/plain": [
       "<Figure size 720x720 with 16 Axes>"
      ]
     },
     "metadata": {
      "needs_background": "light"
     },
     "output_type": "display_data"
    }
   ],
   "source": [
    "import matplotlib.pyplot as plt\n",
    "import numpy as np\n",
    "\n",
    "\n",
    "# Function to generate new data\n",
    "def generate_images(generator, num_images, input_dim):\n",
    "    # Generate random latent vectors\n",
    "    z = torch.randn(num_images, input_dim)\n",
    "\n",
    "    # Generate images from the latent vectors\n",
    "    with torch.no_grad():  # No need to track gradients\n",
    "        fake_images = (\n",
    "            generator(z).cpu().view(-1, 28, 28)\n",
    "        )  # Reshape images to 28x28 (MNIST size)\n",
    "\n",
    "    return fake_images\n",
    "\n",
    "\n",
    "# Generate some images\n",
    "num_samples = 16  # Number of images to generate\n",
    "input_dim = (\n",
    "    100  # The dimension of the input noise vector, ensure it matches your model's input\n",
    ")\n",
    "fake_images = generate_images(gan.G.eval(), num_samples, input_dim)\n",
    "\n",
    "# Plot the generated images\n",
    "fig, axes = plt.subplots(4, 4, figsize=(10, 10))\n",
    "for i, ax in enumerate(axes.flatten()):\n",
    "    ax.imshow(fake_images[i], cmap=\"gray\", interpolation=\"none\")\n",
    "    ax.axis(\"off\")\n",
    "plt.tight_layout()\n",
    "plt.savefig(\"./figures/generated_output_003.png\")\n",
    "plt.show()"
   ]
  }
 ],
 "metadata": {
  "kernelspec": {
   "display_name": "Python 3",
   "language": "python",
   "name": "python3"
  },
  "language_info": {
   "codemirror_mode": {
    "name": "ipython",
    "version": 3
   },
   "file_extension": ".py",
   "mimetype": "text/x-python",
   "name": "python",
   "nbconvert_exporter": "python",
   "pygments_lexer": "ipython3",
   "version": "3.10.5"
  }
 },
 "nbformat": 4,
 "nbformat_minor": 2
}
